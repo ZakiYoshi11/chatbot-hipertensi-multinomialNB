{
 "cells": [
  {
   "cell_type": "code",
   "execution_count": 1,
   "metadata": {},
   "outputs": [],
   "source": [
    "import pandas as pd\n",
    "import pickle\n",
    "import json\n",
    "from Code.model import MultinomialNaiveBayes\n",
    "from Code.preprocess_text import preprocess_data\n",
    "from Code.Cvec import CVec_transfrom,CVec_fit_transform"
   ]
  },
  {
   "cell_type": "code",
   "execution_count": 2,
   "metadata": {},
   "outputs": [],
   "source": [
    "# Load Data tensi_skripsi\\\n",
    "datajson= \"./Dataset/Tensi_skripsi.json\"\n",
    "with open(datajson, 'r') as file:\n",
    "        data = json.load(file)\n"
   ]
  },
  {
   "cell_type": "code",
   "execution_count": 3,
   "metadata": {},
   "outputs": [],
   "source": [
    "# Read file csv\n",
    "with open('savemodel/data_prep.csv', 'r') as f:\n",
    "      df = pd.read_csv(f)"
   ]
  },
  {
   "cell_type": "code",
   "execution_count": 4,
   "metadata": {},
   "outputs": [],
   "source": [
    "kategori = df['kategori']"
   ]
  },
  {
   "cell_type": "code",
   "execution_count": 5,
   "metadata": {},
   "outputs": [],
   "source": [
    "import pickle\n",
    "with open('./savemodel/CVec.pkl', 'rb') as f:\n",
    "    CVec = pickle.load(f)"
   ]
  },
  {
   "cell_type": "code",
   "execution_count": 6,
   "metadata": {},
   "outputs": [],
   "source": [
    "with open('savemodel/X.csv', 'r') as f:\n",
    "      X = pd.read_csv(f)"
   ]
  },
  {
   "cell_type": "code",
   "execution_count": 7,
   "metadata": {},
   "outputs": [],
   "source": [
    "y = df['kategori']"
   ]
  },
  {
   "cell_type": "code",
   "execution_count": 8,
   "metadata": {},
   "outputs": [],
   "source": [
    "# model multinomial naive bayes\n",
    "model = MultinomialNaiveBayes()\n",
    "model.fit(X, y)"
   ]
  },
  {
   "cell_type": "code",
   "execution_count": 9,
   "metadata": {},
   "outputs": [],
   "source": [
    "def get_response(question):\n",
    "    # Melakukan preprocessing pada input yang akan diuji\n",
    "    test = preprocess_data(question)\n",
    "\n",
    "    # Mengubah input yang akan diuji menjadi bentuk yang dapat digunakan oleh algoritma Multinomial Naive Bayes\n",
    "    test1 = CVec_transfrom(pd.Series([test]), CVec)\n",
    "\n",
    "    # Mengklasifikasikan input berdasarkan model yang telah dibuat\n",
    "    prediction = model.predict(test1.values)\n",
    "\n",
    "    # Mengambil hasil klasifikasi (kelas prediksi)\n",
    "    predicted_class = prediction[0]\n",
    "    # Mendapatkan jawaban dari DataFrame berdasarkan kelas prediksi\n",
    "    # Cari jawaban yang sesuai berdasarkan hasil prediksi kategori\n",
    "    output_jawaban = \"Kategori jawaban tidak ditemukan.\"\n",
    "    for item in data:\n",
    "        if item[\"kategori\"] == predicted_class:\n",
    "            output_jawaban = item[\"jawaban\"]\n",
    "            break\n",
    "\n",
    "    return output_jawaban\n",
    "        "
   ]
  },
  {
   "cell_type": "code",
   "execution_count": 10,
   "metadata": {},
   "outputs": [
    {
     "name": "stdout",
     "output_type": "stream",
     "text": [
      "Chatbot:  Hipertensi adalah kondisi saat tekanan darah tinggi melebihi batas normal. Bisa menyebabkan kerusakan pada jantung, ginjal, dan pembuluh darah. Adapun gejala dari penyakit hipertensi yaitu \n",
      " Sakit kepala \n",
      "Pusing \n",
      "Gelisah \n",
      "Penglihatan kabur \n",
      "Mudah lelah \n",
      "Jantung berdebar-debar \n",
      "Sakit dada \n",
      "Tidak merasakan gejala \n",
      "juga tekanan dara diatas normal. Obat yang dapat membantu menangani tekanan darah tinggi yaitu: \n",
      "=Hidroclorthiazide \n",
      "=Captopril, dan \n",
      "=Amlodipine.\n"
     ]
    }
   ],
   "source": [
    "# Contoh penggunaan chatbot\n",
    "input_question = \"hipertensi itu apa?\"\n",
    "response = get_response(input_question)\n",
    "print(\"Chatbot: \", response)"
   ]
  },
  {
   "cell_type": "code",
   "execution_count": null,
   "metadata": {},
   "outputs": [],
   "source": [
    "import pandas as pd\n",
    "import pickle\n",
    "import json\n",
    "from Code.model import MultinomialNaiveBayes\n",
    "from Code.preprocess_text import preprocess_data\n",
    "from Code.Cvec import CVec_transfrom\n",
    "\n",
    "# =============================================\n",
    "# Load Data tensi_skripsi\n",
    "# =============================================\n",
    "datajson= \"./Dataset/Tensi_skripsi.json\"\n",
    "with open(datajson, 'r') as file:\n",
    "        data = json.load(file)\n",
    "\n",
    "# =============================================\n",
    "# Read dile data preprocesing dan data X\n",
    "# =============================================\n",
    "\n",
    "with open('savemodel/data_prep.csv', 'r') as f: # Data Prep\n",
    "      df = pd.read_csv(f)\n",
    "      \n",
    "with open('savemodel/X.csv', 'r') as f: # Data X\n",
    "      X = pd.read_csv(f)\n",
    "      \n",
    "# =============================================\n",
    "# Load data CVec.pkl\n",
    "# =============================================\n",
    "with open('./savemodel/CVec.pkl', 'rb') as f:\n",
    "    CVec = pickle.load(f)\n",
    "\n",
    "# =============================================\n",
    "# model multinomial naive bayes\n",
    "# =============================================\n",
    "model = MultinomialNaiveBayes()\n",
    "\n",
    "# membuat varabel \"y\" yang berisikan kategori dari data\n",
    "y = df['kategori']\n",
    "\n",
    "# ==============================================\n",
    "# Melatih Model\n",
    "# ==============================================\n",
    "model.fit(X, y)\n",
    "\n",
    "# ==============================================\n",
    "# menerima inputan dan memberikan respon \n",
    "# berdasarkan model yang telah dilatih\n",
    "# ==============================================\n",
    "def get_response(question):\n",
    "    \n",
    "    # Melakukan preprocessing pada input yang akan diuji\n",
    "    test = preprocess_data(question)\n",
    "    \n",
    "    # Mengubah input yang akan diuji menjadi bentuk yang dapat digunakan oleh algoritma Multinomial Naive Bayes\n",
    "    test1 = CVec_transfrom(pd.Series([test]), CVec)\n",
    "\n",
    "    # Mengklasifikasikan input berdasarkan model yang telah dibuat\n",
    "    prediction = model.predict(test1.values)\n",
    "\n",
    "    # Mengambil hasil klasifikasi (kelas prediksi)\n",
    "    predicted_class = prediction[0]\n",
    "    \n",
    "    # Mendapatkan jawaban dari DataFrame berdasarkan kelas prediksi\n",
    "    # Cari jawaban yang sesuai berdasarkan hasil prediksi kategori\n",
    "    output_jawaban = \"Kategori jawaban tidak ditemukan.\"\n",
    "    if question == \"#TD\":\n",
    "        output_jawaban = \"Tekanan Darah\"\n",
    "    else:\n",
    "        for item in data:\n",
    "            if item[\"kategori\"] == predicted_class:\n",
    "                output_jawaban = item[\"jawaban\"]\n",
    "                break\n",
    "    return output_jawaban\n",
    "        \n",
    "# # Contoh penggunaan chatbot\n",
    "# input_question = \"hipertensi itu apa?\"\n",
    "# response = get_response(input_question)\n",
    "# print(\"Chatbot: \", response)"
   ]
  },
  {
   "cell_type": "code",
   "execution_count": 12,
   "metadata": {},
   "outputs": [],
   "source": [
    "with open('dataset/hipertensi2021-purbalingga.csv', 'r') as f: # Data Prep\n",
    "      bp = pd.read_csv(f)"
   ]
  },
  {
   "cell_type": "code",
   "execution_count": 31,
   "metadata": {},
   "outputs": [
    {
     "ename": "IndentationError",
     "evalue": "expected an indented block (1481836772.py, line 14)",
     "output_type": "error",
     "traceback": [
      "\u001b[1;36m  Cell \u001b[1;32mIn[31], line 14\u001b[1;36m\u001b[0m\n\u001b[1;33m    if systolic_pressure <120 and diastolic_pressure <90:\u001b[0m\n\u001b[1;37m    ^\u001b[0m\n\u001b[1;31mIndentationError\u001b[0m\u001b[1;31m:\u001b[0m expected an indented block\n"
     ]
    }
   ],
   "source": [
    "def detect_hypertension(input_text):\n",
    "    input_text = input_text.lower().strip()\n",
    "\n",
    "    # Cek apakah input mengandung \"#st\" dan \"#dt\"\n",
    "    if \"#st\" in input_text and \"#dt\" in input_text:\n",
    "        try:\n",
    "            systolic_pressure = int(input_text.split(\"#st\")[1].split(\"#dt\")[0].strip())\n",
    "            diastolic_pressure = int(input_text.split(\"#dt\")[1].strip())\n",
    "        except ValueError:\n",
    "            return \"Tekanan sistolik atau diastolik tidak valid. Mohon masukkan angka.\"\n",
    "\n",
    "        # Klasifikasi berdasarkan tekanan sistolik dan diastolik\n",
    "        if systolic_pressure <=90 and diastolic_pressure <=60:\n",
    "              return \"Tekanan darah kakak terlalu rendah nih :(\"\n",
    "        elif systolic_pressure <120 and diastolic_pressure <90:\n",
    "              return \"optimal normal\"\n",
    "        elif systolic_pressure <= 120 and diastolic_pressure < 80:\n",
    "            return \"Tekanan darah normal.\"\n",
    "        elif systolic_pressure < 130 and diastolic_pressure < 85:\n",
    "            return \"Normal tinggi.\"\n",
    "        elif systolic_pressure < 140 and diastolic_pressure < 90:\n",
    "            return \"Hipertensi derajat 1.\"\n",
    "        elif systolic_pressure < 160 and diastolic_pressure < 100:\n",
    "            return \"Hipertensi derajat 2.\"\n",
    "        else:\n",
    "            return \"Hipertensi derajat 3.\"\n",
    "    else:\n",
    "        return \"Mohon masukkan tekanan darah yang valid (#st dan #dt).\"\n",
    "\n",
    "\n"
   ]
  },
  {
   "cell_type": "code",
   "execution_count": 30,
   "metadata": {},
   "outputs": [
    {
     "name": "stdout",
     "output_type": "stream",
     "text": [
      "Normal tinggi.\n"
     ]
    }
   ],
   "source": [
    "# Contoh penggunaan:\n",
    "input_text = \"#st 129 #dt 50\"\n",
    "hasil = detect_hypertension(input_text)\n",
    "print(hasil)"
   ]
  },
  {
   "cell_type": "code",
   "execution_count": null,
   "metadata": {},
   "outputs": [],
   "source": []
  }
 ],
 "metadata": {
  "kernelspec": {
   "display_name": "Python 3",
   "language": "python",
   "name": "python3"
  },
  "language_info": {
   "codemirror_mode": {
    "name": "ipython",
    "version": 3
   },
   "file_extension": ".py",
   "mimetype": "text/x-python",
   "name": "python",
   "nbconvert_exporter": "python",
   "pygments_lexer": "ipython3",
   "version": "3.8.10"
  },
  "orig_nbformat": 4
 },
 "nbformat": 4,
 "nbformat_minor": 2
}
